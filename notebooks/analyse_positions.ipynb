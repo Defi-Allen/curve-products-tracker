{
 "cells": [
  {
   "cell_type": "code",
   "execution_count": 1,
   "metadata": {},
   "outputs": [],
   "source": [
    "import pandas as pd"
   ]
  },
  {
   "cell_type": "code",
   "execution_count": 2,
   "metadata": {},
   "outputs": [],
   "source": [
    "data = pd.read_csv(\"../data/0xdc1661ad8fc908a853bd1747b6b011db2788d685_2021-07-22 11:39:32+00:00_2021-07-23 18:16:32+00:00.csv\")"
   ]
  },
  {
   "cell_type": "code",
   "execution_count": 3,
   "metadata": {},
   "outputs": [
    {
     "data": {
      "text/html": "<div>\n<style scoped>\n    .dataframe tbody tr th:only-of-type {\n        vertical-align: middle;\n    }\n\n    .dataframe tbody tr th {\n        vertical-align: top;\n    }\n\n    .dataframe thead th {\n        text-align: right;\n    }\n</style>\n<table border=\"1\" class=\"dataframe\">\n  <thead>\n    <tr style=\"text-align: right;\">\n      <th></th>\n      <th>time</th>\n      <th>block_number</th>\n      <th>lp_balance</th>\n      <th>curve_gauge_balance</th>\n      <th>convex_gauge_balance</th>\n      <th>num_usdt_tokens</th>\n      <th>num_wbtc_tokens</th>\n      <th>num_eth_tokens</th>\n    </tr>\n  </thead>\n  <tbody>\n    <tr>\n      <th>0</th>\n      <td>2021-07-22 11:39:32+00:00</td>\n      <td>12875948</td>\n      <td>0.0</td>\n      <td>2.330491</td>\n      <td>0</td>\n      <td>2783.554799</td>\n      <td>0.087492</td>\n      <td>1.408368</td>\n    </tr>\n    <tr>\n      <th>1</th>\n      <td>2021-07-22 11:58:37+00:00</td>\n      <td>12876048</td>\n      <td>0.0</td>\n      <td>2.330491</td>\n      <td>0</td>\n      <td>2784.694912</td>\n      <td>0.087561</td>\n      <td>1.406854</td>\n    </tr>\n    <tr>\n      <th>2</th>\n      <td>2021-07-22 12:18:36+00:00</td>\n      <td>12876148</td>\n      <td>0.0</td>\n      <td>2.330491</td>\n      <td>0</td>\n      <td>2780.754257</td>\n      <td>0.087453</td>\n      <td>1.410071</td>\n    </tr>\n    <tr>\n      <th>3</th>\n      <td>2021-07-22 12:40:28+00:00</td>\n      <td>12876248</td>\n      <td>0.0</td>\n      <td>2.330491</td>\n      <td>0</td>\n      <td>2790.238373</td>\n      <td>0.087187</td>\n      <td>1.409154</td>\n    </tr>\n    <tr>\n      <th>4</th>\n      <td>2021-07-22 13:04:42+00:00</td>\n      <td>12876348</td>\n      <td>0.0</td>\n      <td>2.330491</td>\n      <td>0</td>\n      <td>2801.648882</td>\n      <td>0.087148</td>\n      <td>1.402215</td>\n    </tr>\n    <tr>\n      <th>...</th>\n      <td>...</td>\n      <td>...</td>\n      <td>...</td>\n      <td>...</td>\n      <td>...</td>\n      <td>...</td>\n      <td>...</td>\n      <td>...</td>\n    </tr>\n    <tr>\n      <th>79</th>\n      <td>2021-07-23 17:05:44+00:00</td>\n      <td>12883848</td>\n      <td>0.0</td>\n      <td>2.330491</td>\n      <td>0</td>\n      <td>2810.815628</td>\n      <td>0.087485</td>\n      <td>1.391853</td>\n    </tr>\n    <tr>\n      <th>80</th>\n      <td>2021-07-23 17:27:56+00:00</td>\n      <td>12883948</td>\n      <td>0.0</td>\n      <td>2.330491</td>\n      <td>0</td>\n      <td>2805.582405</td>\n      <td>0.087475</td>\n      <td>1.394158</td>\n    </tr>\n    <tr>\n      <th>81</th>\n      <td>2021-07-23 17:51:30+00:00</td>\n      <td>12884048</td>\n      <td>0.0</td>\n      <td>2.330491</td>\n      <td>0</td>\n      <td>2804.927654</td>\n      <td>0.087402</td>\n      <td>1.395521</td>\n    </tr>\n    <tr>\n      <th>82</th>\n      <td>2021-07-23 18:11:10+00:00</td>\n      <td>12884148</td>\n      <td>0.0</td>\n      <td>2.330491</td>\n      <td>0</td>\n      <td>2804.927654</td>\n      <td>0.087402</td>\n      <td>1.395521</td>\n    </tr>\n    <tr>\n      <th>83</th>\n      <td>2021-07-23 18:16:32+00:00</td>\n      <td>12884169</td>\n      <td>0.0</td>\n      <td>2.330491</td>\n      <td>0</td>\n      <td>2804.927654</td>\n      <td>0.087402</td>\n      <td>1.395521</td>\n    </tr>\n  </tbody>\n</table>\n<p>84 rows × 8 columns</p>\n</div>",
      "text/plain": "                         time  block_number  lp_balance  curve_gauge_balance  \\\n0   2021-07-22 11:39:32+00:00      12875948         0.0             2.330491   \n1   2021-07-22 11:58:37+00:00      12876048         0.0             2.330491   \n2   2021-07-22 12:18:36+00:00      12876148         0.0             2.330491   \n3   2021-07-22 12:40:28+00:00      12876248         0.0             2.330491   \n4   2021-07-22 13:04:42+00:00      12876348         0.0             2.330491   \n..                        ...           ...         ...                  ...   \n79  2021-07-23 17:05:44+00:00      12883848         0.0             2.330491   \n80  2021-07-23 17:27:56+00:00      12883948         0.0             2.330491   \n81  2021-07-23 17:51:30+00:00      12884048         0.0             2.330491   \n82  2021-07-23 18:11:10+00:00      12884148         0.0             2.330491   \n83  2021-07-23 18:16:32+00:00      12884169         0.0             2.330491   \n\n    convex_gauge_balance  num_usdt_tokens  num_wbtc_tokens  num_eth_tokens  \n0                      0      2783.554799         0.087492        1.408368  \n1                      0      2784.694912         0.087561        1.406854  \n2                      0      2780.754257         0.087453        1.410071  \n3                      0      2790.238373         0.087187        1.409154  \n4                      0      2801.648882         0.087148        1.402215  \n..                   ...              ...              ...             ...  \n79                     0      2810.815628         0.087485        1.391853  \n80                     0      2805.582405         0.087475        1.394158  \n81                     0      2804.927654         0.087402        1.395521  \n82                     0      2804.927654         0.087402        1.395521  \n83                     0      2804.927654         0.087402        1.395521  \n\n[84 rows x 8 columns]"
     },
     "execution_count": 3,
     "metadata": {},
     "output_type": "execute_result"
    }
   ],
   "source": [
    "data"
   ]
  },
  {
   "cell_type": "code",
   "execution_count": null,
   "metadata": {},
   "outputs": [],
   "source": []
  }
 ],
 "metadata": {
  "kernelspec": {
   "display_name": "Python 3.7.10  ('venv': venv)",
   "name": "pythonjvsc74a57bd0bcf336e9470313d62061f7fe5334ba62b1df9489e48a95345a419f74c96ed75e"
  },
  "language_info": {
   "codemirror_mode": {
    "name": "ipython",
    "version": 3
   },
   "file_extension": ".py",
   "mimetype": "text/x-python",
   "name": "python",
   "nbconvert_exporter": "python",
   "pygments_lexer": "ipython3",
   "version": "3.7.10"
  },
  "metadata": {
   "interpreter": {
    "hash": "bcf336e9470313d62061f7fe5334ba62b1df9489e48a95345a419f74c96ed75e"
   }
  },
  "orig_nbformat": 2
 },
 "nbformat": 4,
 "nbformat_minor": 2
}
